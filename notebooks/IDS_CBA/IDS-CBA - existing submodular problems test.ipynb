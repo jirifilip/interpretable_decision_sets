{
 "cells": [
  {
   "cell_type": "code",
   "execution_count": 2,
   "metadata": {
    "collapsed": true
   },
   "outputs": [],
   "source": [
    "import numpy as np\n",
    "import matplotlib.pyplot as plt\n",
    "\n",
    "%matplotlib inline"
   ]
  },
  {
   "cell_type": "markdown",
   "metadata": {},
   "source": [
    "# Examples"
   ]
  },
  {
   "cell_type": "markdown",
   "metadata": {},
   "source": [
    "## Set coverage example"
   ]
  },
  {
   "cell_type": "code",
   "execution_count": 19,
   "metadata": {},
   "outputs": [
    {
     "data": {
      "text/plain": [
       "array([[8.21033445e-04, 6.69266065e-01, 9.44095045e-01, 9.72385604e-01],\n",
       "       [1.08067612e-01, 9.26508279e-01, 2.07037510e-01, 9.52840846e-01],\n",
       "       [6.68968506e-01, 1.02804300e-02, 1.20386133e-01, 9.33806181e-01],\n",
       "       [9.43107492e-01, 2.45536537e-01, 3.54701994e-01, 9.61847524e-01]])"
      ]
     },
     "execution_count": 19,
     "metadata": {},
     "output_type": "execute_result"
    }
   ],
   "source": [
    "class Sets:\n",
    "    \n",
    "    def __init__(self, set_count):\n",
    "        self.set_count = set_count\n",
    "        \n",
    "        self.set_overlap = np.random.uniform(size=(set_count, set_count))\n",
    "        \n",
    "    \n",
    "sets = Sets(4)\n",
    "        \n",
    "\n",
    "sets.set_overlap"
   ]
  }
 ],
 "metadata": {
  "kernelspec": {
   "display_name": "Python 3",
   "language": "python",
   "name": "python3"
  },
  "language_info": {
   "codemirror_mode": {
    "name": "ipython",
    "version": 3
   },
   "file_extension": ".py",
   "mimetype": "text/x-python",
   "name": "python",
   "nbconvert_exporter": "python",
   "pygments_lexer": "ipython3",
   "version": "3.6.1"
  }
 },
 "nbformat": 4,
 "nbformat_minor": 2
}
