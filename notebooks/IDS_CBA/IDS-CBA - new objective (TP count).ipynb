{
 "cells": [
  {
   "cell_type": "markdown",
   "metadata": {},
   "source": [
    "# TODO\n",
    "\n",
    "* použití nalezení defaultního pravidla podle původního článku\n",
    "* benchmarking accuracy IDS s CBA kritériem vs CBA\n",
    "* pokusit se vysvětlit chování IDS-CBA"
   ]
  },
  {
   "cell_type": "code",
   "execution_count": 1,
   "metadata": {
    "collapsed": true
   },
   "outputs": [],
   "source": [
    "%run C:/code/python/CBA/main.py\n",
    "%run ../../IDS_smooth_local.py"
   ]
  },
  {
   "cell_type": "code",
   "execution_count": 2,
   "metadata": {
    "collapsed": true
   },
   "outputs": [],
   "source": [
    "import pandas\n",
    "import random\n",
    "import collections\n",
    "import matplotlib.pyplot as plt\n",
    "\n",
    "%matplotlib inline"
   ]
  },
  {
   "cell_type": "markdown",
   "metadata": {},
   "source": [
    "# Upravení dolování pravidel\n",
    "\n",
    "chceme zahrnout i confidence a support\n",
    "\n",
    "Nemůžeme jako objective zahrnout počet True Positives, protože se ne vždy jedná o binární klasifikaci"
   ]
  },
  {
   "cell_type": "code",
   "execution_count": 3,
   "metadata": {
    "collapsed": true
   },
   "outputs": [],
   "source": [
    "import fim\n",
    "from pyarc.algorithms import top_rules, createCARs\n",
    "from pyarc import TransactionDB\n",
    "from pyarc.algorithms import Classifier"
   ]
  },
  {
   "cell_type": "code",
   "execution_count": 4,
   "metadata": {},
   "outputs": [
    {
     "name": "stdout",
     "output_type": "stream",
     "text": [
      "Running apriori with setting: confidence=0.5, support=0.0, minlen=2, maxlen=3, MAX_RULE_LEN=5\n",
      "Rule count: 96, Iteration: 1\n",
      "Increasing maxlen 4\n",
      "Running apriori with setting: confidence=0.5, support=0.0, minlen=2, maxlen=4, MAX_RULE_LEN=5\n",
      "Rule count: 166, Iteration: 2\n",
      "Increasing maxlen 5\n",
      "Running apriori with setting: confidence=0.5, support=0.0, minlen=2, maxlen=5, MAX_RULE_LEN=5\n",
      "Rule count: 190, Iteration: 3\n",
      "Decreasing confidence to 0.45\n",
      "Running apriori with setting: confidence=0.45, support=0.0, minlen=2, maxlen=5, MAX_RULE_LEN=5\n",
      "Rule count: 190, Iteration: 4\n",
      "Decreasing confidence to 0.4\n",
      "Running apriori with setting: confidence=0.4, support=0.0, minlen=2, maxlen=5, MAX_RULE_LEN=5\n",
      "Rule count: 190, Iteration: 5\n",
      "Decreasing confidence to 0.35000000000000003\n",
      "Running apriori with setting: confidence=0.35000000000000003, support=0.0, minlen=2, maxlen=5, MAX_RULE_LEN=5\n",
      "Rule count: 190, Iteration: 6\n",
      "Decreasing confidence to 0.30000000000000004\n",
      "Running apriori with setting: confidence=0.30000000000000004, support=0.0, minlen=2, maxlen=5, MAX_RULE_LEN=5\n",
      "Rule count: 190, Iteration: 7\n",
      "Decreasing confidence to 0.25000000000000006\n",
      "Running apriori with setting: confidence=0.25000000000000006, support=0.0, minlen=2, maxlen=5, MAX_RULE_LEN=5\n",
      "Rule count: 190, Iteration: 8\n",
      "Decreasing confidence to 0.20000000000000007\n",
      "Running apriori with setting: confidence=0.20000000000000007, support=0.0, minlen=2, maxlen=5, MAX_RULE_LEN=5\n",
      "Rule count: 190, Iteration: 9\n",
      "Decreasing confidence to 0.15000000000000008\n",
      "Running apriori with setting: confidence=0.15000000000000008, support=0.0, minlen=2, maxlen=5, MAX_RULE_LEN=5\n",
      "Rule count: 190, Iteration: 10\n",
      "Decreasing confidence to 0.10000000000000007\n",
      "Running apriori with setting: confidence=0.10000000000000007, support=0.0, minlen=2, maxlen=5, MAX_RULE_LEN=5\n",
      "Rule count: 190, Iteration: 11\n",
      "Decreasing confidence to 0.05000000000000007\n",
      "Running apriori with setting: confidence=0.05000000000000007, support=0.0, minlen=2, maxlen=5, MAX_RULE_LEN=5\n",
      "Rule count: 190, Iteration: 12\n",
      "Decreasing confidence to 6.938893903907228e-17\n",
      "Running apriori with setting: confidence=6.938893903907228e-17, support=0.0, minlen=2, maxlen=5, MAX_RULE_LEN=5\n",
      "Rule count: 190, Iteration: 13\n",
      "All options exhausted\n"
     ]
    }
   ],
   "source": [
    "data = pandas.read_csv(\"../../data/iris0.csv\")\n",
    "\n",
    "data_txns = TransactionDB.from_DataFrame(data)\n",
    "rules = top_rules(data_txns.string_representation, appearance=data_txns.appeardict)"
   ]
  },
  {
   "cell_type": "code",
   "execution_count": 5,
   "metadata": {
    "collapsed": true
   },
   "outputs": [],
   "source": [
    "cars = createCARs(rules)\n",
    "cars.sort(reverse=True)"
   ]
  },
  {
   "cell_type": "code",
   "execution_count": 6,
   "metadata": {
    "collapsed": true
   },
   "outputs": [],
   "source": [
    "def get_IDS_rules_representation(pyARC_rules):\n",
    "    IDS_rules = []\n",
    "    \n",
    "    for pyARC_rule in pyARC_rules:\n",
    "        feature_list = list(dict(pyARC_rule.antecedent).keys())\n",
    "        value_list = list(dict(pyARC_rule.antecedent).values())\n",
    "        \n",
    "        class_value = pyARC_rule.consequent[1]\n",
    "        \n",
    "        support = pyARC_rule.support\n",
    "        confidence = pyARC_rule.confidence\n",
    "        \n",
    "        IDS_rule = rule(feature_list, value_list, class_value, support, confidence)\n",
    "        \n",
    "        IDS_rules.append(IDS_rule)\n",
    "        \n",
    "    return IDS_rules\n",
    "\n",
    "\n",
    "def CBA_attach_default_rule(rules, dataset_txns):\n",
    "    not_classified = { transaction for transaction in dataset_txns }\n",
    "    \n",
    "    rules = sorted(rules, reverse=True)\n",
    "    \n",
    "    for rule in rules:\n",
    "        classified_by_rule = set()\n",
    "        \n",
    "        for transaction in dataset_txns:\n",
    "            if rule.antecedent <= transaction:\n",
    "                classified_by_rule.add(transaction)\n",
    "    \n",
    "    \n",
    "        not_classified -= classified_by_rule\n",
    "        \n",
    "    \n",
    "    \n",
    "    class_vals = []\n",
    "    for transaction in not_classified:\n",
    "        key, val = transaction.class_val\n",
    "    \n",
    "        class_vals.append(val)\n",
    "        \n",
    "    \n",
    "    class_counts = collections.Counter(class_vals)\n",
    "    \n",
    "    most_common = class_counts.most_common()\n",
    "    \n",
    "    default_class = \"N/A\"\n",
    "    \n",
    "    if len(most_common) == 0:\n",
    "        default_class = rules[-1].consequent.value\n",
    "    else:\n",
    "        default_item = most_common[0]\n",
    "        default_class = default_item[0]\n",
    "    \n",
    "    return default_class\n",
    "    #return \"N/A\"\n",
    "\n",
    "\n",
    "def CBAclassifier_from_IDS_rules(rules, dataset_txns):\n",
    "    default_class = CBA_attach_default_rule(rules, dataset_txns)\n",
    "    #default_class = \"N/A\"\n",
    "    \n",
    "    clf = Classifier()\n",
    "    clf.rules = rules\n",
    "    clf.default_class = default_class\n",
    "    \n",
    "    return clf\n",
    "    \n",
    "def CBA_classifier_correct(classifier, dataset_txns):\n",
    "    predicted = np.array(classifier.predict_all(dataset_txns))\n",
    "    actual = np.array(dataset_txns.classes)\n",
    "    correct_mask = predicted == actual\n",
    "    errors_mask = np.logical_not(correct_mask)\n",
    "                   \n",
    "    correct = np.sum(correct_mask)\n",
    "    errors = np.sum(errors_mask)\n",
    "    \n",
    "    return correct, errors\n",
    "\n",
    "\n",
    "def IDS_clf_correct_objective(rules, dataset_txns, error=False):\n",
    "    rules = sorted(rules, reverse=True)\n",
    "    \n",
    "    clf = CBAclassifier_from_IDS_rules(rules, dataset_txns)\n",
    "    correct, errors = CBA_classifier_correct(clf, dataset_txns)\n",
    "    \n",
    "    if error:\n",
    "        return errors\n",
    "    else:\n",
    "        return correct"
   ]
  },
  {
   "cell_type": "markdown",
   "metadata": {},
   "source": [
    "## Otestovat submodularitu nového kritéria"
   ]
  },
  {
   "cell_type": "markdown",
   "metadata": {},
   "source": [
    "Funkce splňuje submodularitu, pokud nebudeme pokaždé vybírat nové výchozí pravidlo."
   ]
  },
  {
   "cell_type": "code",
   "execution_count": 7,
   "metadata": {},
   "outputs": [
    {
     "data": {
      "text/plain": [
       "3"
      ]
     },
     "execution_count": 7,
     "metadata": {},
     "output_type": "execute_result"
    }
   ],
   "source": [
    "ITERATIONS = 10\n",
    "results = []\n",
    "results_numbers = []\n",
    "results_rule_sets = []\n",
    "results_correct_subset = []\n",
    "\n",
    "def calculate_submodular_result(set1, set2, new_rule, data_txns):\n",
    "    f1 = IDS_clf_correct_objective(set1 | new_rule, data_txns) - IDS_clf_correct_objective(set1, data_txns)\n",
    "    f2 = IDS_clf_correct_objective(set2 | new_rule, data_txns) - IDS_clf_correct_objective(set2, data_txns)\n",
    "\n",
    "    return f1, f2\n",
    "    \n",
    "for i in range(ITERATIONS):\n",
    "    cars_set = set(cars)\n",
    "\n",
    "    set1 = set(random.sample(cars_set, 2))\n",
    "    set1_aux = set(random.sample(cars_set - set1, 2)) \n",
    "\n",
    "    set2 = set1 | set1_aux\n",
    "\n",
    "    new_rule = set(random.sample(cars_set - set2, 1))\n",
    "\n",
    "    f1, f2 = calculate_submodular_result(set1, set2, new_rule, data_txns)\n",
    "\n",
    "    results.append(f2 <= f1)\n",
    "    results_numbers.append((f1, f2))\n",
    "    results_rule_sets.append((set1, set2, new_rule))\n",
    "    results_correct_subset.append(set1 <= set2)\n",
    "    \n",
    "    \n",
    "    \n",
    "results = np.array(results)\n",
    "results_numbers = np.array(results_numbers)\n",
    "results_rule_sets = np.array(results_rule_sets)\n",
    "results_correct_subset = np.array(results_correct_subset)\n",
    "    \n",
    "ITERATIONS - np.sum(results)"
   ]
  },
  {
   "cell_type": "code",
   "execution_count": 8,
   "metadata": {},
   "outputs": [
    {
     "data": {
      "text/plain": [
       "[<matplotlib.lines.Line2D at 0x207e2ae82b0>]"
      ]
     },
     "execution_count": 8,
     "metadata": {},
     "output_type": "execute_result"
    },
    {
     "data": {
      "image/png": "[encoded data removed]",
      "text/plain": [
       "<matplotlib.figure.Figure at 0x207e0a6bda0>"
      ]
     },
     "metadata": {},
     "output_type": "display_data"
    }
   ],
   "source": [
    "initial_ruleset = set()\n",
    "cars_shuffled = sorted(cars, reverse=True)\n",
    "\n",
    "xs = []\n",
    "\n",
    "for i in range(30):\n",
    "    initial_ruleset.add(cars_shuffled[i])\n",
    "    \n",
    "    x = IDS_clf_correct_objective(initial_ruleset, data_txns, error=False)\n",
    "    xs.append(x)\n",
    "    \n",
    "    \n",
    "plt.plot(xs)"
   ]
  },
  {
   "cell_type": "markdown",
   "metadata": {},
   "source": [
    "# Nasazení nového objectivu do IDS"
   ]
  },
  {
   "cell_type": "code",
   "execution_count": 9,
   "metadata": {
    "collapsed": true
   },
   "outputs": [],
   "source": [
    "rules_CBA = np.array(cars)\n",
    "transactions_CBA = data_txns\n",
    "\n",
    "def func_evaluation_IDS_CBA(soln_set, list_rules, df, Y, lambda_array, len_list_rules):\n",
    "    solution_rules = rules_CBA[list(soln_set)]\n",
    "    \n",
    "    objective = IDS_clf_correct_objective(solution_rules, transactions_CBA)\n",
    "\n",
    "    return objective"
   ]
  },
  {
   "cell_type": "code",
   "execution_count": 51,
   "metadata": {
    "scrolled": true
   },
   "outputs": [
    {
     "name": "stdout",
     "output_type": "stream",
     "text": [
      "Running apriori with setting: confidence=0.5, support=0.0, minlen=2, maxlen=3, MAX_RULE_LEN=10\n",
      "Rule count: 702, Iteration: 1\n",
      "Target rule count satisfied: 200\n"
     ]
    }
   ],
   "source": [
    "data_folder = \"../../data/breast-w0.csv\"\n",
    "\n",
    "data = pandas.read_csv(data_folder)\n",
    "\n",
    "data_txns = TransactionDB.from_DataFrame(data)\n",
    "rules = top_rules(data_txns.string_representation, appearance=data_txns.appeardict, target_rule_count=200)\n",
    "cars = createCARs(rules)\n",
    "cars.sort(reverse=True)\n",
    "\n",
    "cars = cars[:70]"
   ]
  },
  {
   "cell_type": "code",
   "execution_count": 52,
   "metadata": {
    "collapsed": true
   },
   "outputs": [],
   "source": [
    "df = pd.read_csv(data_folder, ',')\n",
    "Y = df.iloc[:, -1]\n",
    "\n",
    "list_of_rules = get_IDS_rules_representation(cars)\n",
    "\n",
    "prepare_caches(list_of_rules, df, Y)\n",
    "prepare_overlap(list_of_rules, df)"
   ]
  },
  {
   "cell_type": "code",
   "execution_count": 53,
   "metadata": {
    "collapsed": true
   },
   "outputs": [],
   "source": [
    "def optimize(param):\n",
    "    lambda_array = [1.0]*7     # use separate hyperparamter search routine\n",
    "    #lambda_array = [1, 0, 0, 1, 0, 0, 0]\n",
    "    \n",
    "    s1 = smooth_local_search(list_of_rules, df, Y, lambda_array, 0.33, param, func_evaluation_IDS_CBA)\n",
    "    func1 = func_evaluation_IDS_CBA(s1, list_of_rules, df, Y, lambda_array, len(list_of_rules))\n",
    "\n",
    "    return func1, s1\n",
    "\n",
    "def run_IDS(alternative = False):\n",
    "    results = None\n",
    "    if not alternative:\n",
    "        results = list(map(optimize, [0.33, -1.0]))\n",
    "    else:\n",
    "        results = list(map(optimize_modified, [0.33, -1.0]))\n",
    "        \n",
    "        \n",
    "    (func1, s1), (func2, s2) = results \n",
    "\n",
    "    result_obj = 0\n",
    "    result_set = {}\n",
    "    if func1 > func2:\n",
    "        print(\"The Solution Set is: \"+str(s1))\n",
    "        result_set = list(s1)\n",
    "        result_obj = func1\n",
    "    else:\n",
    "        print(\"The Solution Set is: \"+str(s2))\n",
    "        result_set = list(s2)\n",
    "        result_obj = func2\n",
    "        \n",
    "    return result_obj, result_set\n"
   ]
  },
  {
   "cell_type": "code",
   "execution_count": 54,
   "metadata": {},
   "outputs": [
    {
     "name": "stdout",
     "output_type": "stream",
     "text": [
      "2/n*n OPT value is 2527.9697959183673\n",
      "Estimating omega for rule 0\n",
      "Standard Error 463.9894869498661\n",
      "Estimating omega for rule 1\n",
      "Standard Error 757.4172304615204\n",
      "Estimating omega for rule 2\n",
      "Standard Error 529.8427927225207\n",
      "Estimating omega for rule 3\n",
      "Standard Error 407.42852379282425\n",
      "Estimating omega for rule 4\n",
      "Standard Error 594.2983804453786\n",
      "Estimating omega for rule 5\n",
      "Standard Error 567.5641373448467\n",
      "Estimating omega for rule 6\n",
      "Standard Error 628.589476526612\n",
      "Estimating omega for rule 7\n",
      "Standard Error 665.7718197701072\n",
      "Estimating omega for rule 8\n",
      "Standard Error 678.2164492254667\n",
      "Estimating omega for rule 9\n",
      "Standard Error 537.8700772491438\n",
      "Estimating omega for rule 10\n",
      "Standard Error 682.4206342132395\n",
      "Estimating omega for rule 11\n",
      "Standard Error 436.99660524997216\n",
      "Estimating omega for rule 12\n",
      "Standard Error 611.1908768952625\n",
      "Estimating omega for rule 13\n",
      "Standard Error 478.29999581852394\n",
      "Estimating omega for rule 14\n",
      "Standard Error 690.9945426702009\n",
      "Estimating omega for rule 15\n",
      "Standard Error 515.0949397926561\n",
      "Estimating omega for rule 16\n",
      "Standard Error 588.6474776978154\n",
      "Estimating omega for rule 17\n",
      "Standard Error 539.0508046557393\n",
      "Estimating omega for rule 18\n",
      "Standard Error 518.8095893485394\n",
      "Estimating omega for rule 19\n",
      "Standard Error 365.409236336467\n",
      "Estimating omega for rule 20\n",
      "Standard Error 545.8595020699008\n",
      "Estimating omega for rule 21\n",
      "Standard Error 513.092316255077\n",
      "Estimating omega for rule 22\n",
      "Standard Error 537.6114265898746\n",
      "Estimating omega for rule 23\n",
      "Standard Error 571.7246924875643\n",
      "Estimating omega for rule 24\n",
      "Standard Error 497.8733342929706\n",
      "Estimating omega for rule 25\n",
      "Standard Error 598.7268701169173\n",
      "Estimating omega for rule 26\n",
      "Standard Error 474.4007946873614\n",
      "Estimating omega for rule 27\n",
      "Standard Error 500.3875498051485\n",
      "Estimating omega for rule 28\n",
      "Standard Error 517.2221621315158\n",
      "Estimating omega for rule 29\n",
      "Standard Error 473.19248620408166\n",
      "Estimating omega for rule 30\n",
      "Standard Error 635.271615137966\n",
      "Estimating omega for rule 31\n",
      "Standard Error 508.22190428984857\n",
      "Estimating omega for rule 32\n",
      "Standard Error 345.9049826180594\n",
      "Estimating omega for rule 33\n",
      "Standard Error 543.3253978970613\n",
      "Estimating omega for rule 34\n",
      "Standard Error 795.2238615635222\n",
      "Estimating omega for rule 35\n",
      "Standard Error 474.7181911408072\n",
      "Estimating omega for rule 36\n",
      "Standard Error 505.4822034453834\n",
      "Estimating omega for rule 37\n",
      "Standard Error 565.6750100543597\n",
      "Estimating omega for rule 38\n",
      "Standard Error 543.7088835029275\n",
      "Estimating omega for rule 39\n",
      "Standard Error 547.8321440003316\n",
      "Estimating omega for rule 40\n",
      "Standard Error 457.5284220679629\n",
      "Estimating omega for rule 41\n",
      "Standard Error 533.741514218259\n",
      "Estimating omega for rule 42\n",
      "Standard Error 582.9236356505027\n",
      "Estimating omega for rule 43\n",
      "Standard Error 418.8820752908866\n",
      "Estimating omega for rule 44\n",
      "Standard Error 566.9112875926885\n",
      "Estimating omega for rule 45\n",
      "Standard Error 582.5116994533242\n",
      "Estimating omega for rule 46\n",
      "Standard Error 443.1488068358077\n",
      "Estimating omega for rule 47\n",
      "Standard Error 702.4923045841855\n",
      "Estimating omega for rule 48\n",
      "Standard Error 599.5207035624375\n",
      "Estimating omega for rule 49\n",
      "Standard Error 385.603602161598\n",
      "Estimating omega for rule 50\n",
      "Standard Error 915.0436563355871\n",
      "Estimating omega for rule 51\n",
      "Standard Error 834.0568505803427\n",
      "Estimating omega for rule 52\n",
      "Standard Error 354.69394835548013\n",
      "Estimating omega for rule 53\n",
      "Standard Error 353.51975475212134\n",
      "Estimating omega for rule 54\n",
      "Standard Error 496.4195856329604\n",
      "Estimating omega for rule 55\n",
      "Standard Error 653.8337105105547\n",
      "Estimating omega for rule 56\n",
      "Standard Error 613.2076891233507\n",
      "Estimating omega for rule 57\n",
      "Standard Error 552.6984069092292\n",
      "Estimating omega for rule 58\n",
      "Standard Error 807.2253638235113\n",
      "Estimating omega for rule 59\n",
      "Standard Error 865.1113621956424\n",
      "Estimating omega for rule 60\n",
      "Standard Error 526.5627949257334\n",
      "Estimating omega for rule 61\n",
      "Standard Error 598.2847231878815\n",
      "Estimating omega for rule 62\n",
      "Standard Error 515.7214025033284\n",
      "Estimating omega for rule 63\n",
      "Standard Error 428.79527632659386\n",
      "Estimating omega for rule 64\n",
      "Standard Error 483.82751058615924\n",
      "Estimating omega for rule 65\n",
      "Standard Error 592.4768096727499\n",
      "Estimating omega for rule 66\n",
      "Standard Error 551.5961185505206\n",
      "Estimating omega for rule 67\n",
      "Standard Error 490.83205376177295\n",
      "Estimating omega for rule 68\n",
      "Standard Error 564.4246849669139\n",
      "Estimating omega for rule 69\n",
      "Standard Error 613.8254124749154\n",
      "2/n*n OPT value is 2529.4363265306124\n",
      "Estimating omega for rule 0\n",
      "Standard Error 455.8313109034964\n",
      "Estimating omega for rule 1\n",
      "Standard Error 405.38317675996376\n",
      "Estimating omega for rule 2\n",
      "Standard Error 505.37077082079054\n",
      "Estimating omega for rule 3\n",
      "Standard Error 590.8497727849272\n",
      "Estimating omega for rule 4\n",
      "Standard Error 805.5623377492271\n",
      "Estimating omega for rule 5\n",
      "Standard Error 561.6539379368759\n",
      "Estimating omega for rule 6\n",
      "Standard Error 520.5724973526742\n",
      "Estimating omega for rule 7\n",
      "Standard Error 547.0526272672494\n",
      "Estimating omega for rule 8\n",
      "Standard Error 472.51710656864054\n",
      "Estimating omega for rule 9\n",
      "Standard Error 457.61216111462767\n",
      "Estimating omega for rule 10\n",
      "Standard Error 746.6670127975389\n",
      "Estimating omega for rule 11\n",
      "Standard Error 647.4117623275005\n",
      "Estimating omega for rule 12\n",
      "Standard Error 363.8721437538191\n",
      "Estimating omega for rule 13\n",
      "Standard Error 473.3233324060837\n",
      "Estimating omega for rule 14\n",
      "Standard Error 585.4884567606778\n",
      "Estimating omega for rule 15\n",
      "Standard Error 649.8183007579888\n",
      "Estimating omega for rule 16\n",
      "Standard Error 539.0420391769087\n",
      "Estimating omega for rule 17\n",
      "Standard Error 710.1337824663744\n",
      "Estimating omega for rule 18\n",
      "Standard Error 514.9079383734534\n",
      "Estimating omega for rule 19\n",
      "Standard Error 385.5223858610548\n",
      "Estimating omega for rule 20\n",
      "Standard Error 452.5266500439504\n",
      "Estimating omega for rule 21\n",
      "Standard Error 434.1096693233174\n",
      "Estimating omega for rule 22\n",
      "Standard Error 666.2347371610099\n",
      "Estimating omega for rule 23\n",
      "Standard Error 629.2849688336756\n",
      "Estimating omega for rule 24\n",
      "Standard Error 593.1097579706474\n",
      "Estimating omega for rule 25\n",
      "Standard Error 456.90060297618345\n",
      "Estimating omega for rule 26\n",
      "Standard Error 611.6243700180692\n",
      "Estimating omega for rule 27\n",
      "Standard Error 601.7388220814742\n",
      "Estimating omega for rule 28\n",
      "Standard Error 672.1892984866688\n",
      "Estimating omega for rule 29\n",
      "Standard Error 381.2566091230419\n",
      "Estimating omega for rule 30\n",
      "Standard Error 440.28849860063343\n",
      "Estimating omega for rule 31\n",
      "Standard Error 854.1677036741672\n",
      "Estimating omega for rule 32\n",
      "Standard Error 464.7752446075415\n",
      "Estimating omega for rule 33\n",
      "Standard Error 323.5713306212403\n",
      "Estimating omega for rule 34\n",
      "Standard Error 737.2800316026469\n",
      "Estimating omega for rule 35\n",
      "Standard Error 314.3071252771722\n",
      "Estimating omega for rule 36\n",
      "Standard Error 529.2569262654954\n",
      "Estimating omega for rule 37\n",
      "Standard Error 538.9565956549749\n",
      "Estimating omega for rule 38\n",
      "Standard Error 640.1018520516872\n",
      "Estimating omega for rule 39\n",
      "Standard Error 572.3576154817895\n",
      "Estimating omega for rule 40\n",
      "Standard Error 435.9867486518369\n",
      "Estimating omega for rule 41\n",
      "Standard Error 738.5795238158177\n",
      "Estimating omega for rule 42\n",
      "Standard Error 367.82487816894604\n",
      "Estimating omega for rule 43\n",
      "Standard Error 596.7258097317393\n",
      "Estimating omega for rule 44\n",
      "Standard Error 458.06943578457617\n",
      "Estimating omega for rule 45\n",
      "Standard Error 656.2255374488255\n",
      "Estimating omega for rule 46\n",
      "Standard Error 365.67295360745504\n",
      "Estimating omega for rule 47\n",
      "Standard Error 538.3752046667826\n",
      "Estimating omega for rule 48\n",
      "Standard Error 679.2046981580738\n",
      "Estimating omega for rule 49\n",
      "Standard Error 628.5604863495636\n",
      "Estimating omega for rule 50\n",
      "Standard Error 510.50192947725475\n",
      "Estimating omega for rule 51\n",
      "Standard Error 502.11268854710295\n",
      "Estimating omega for rule 52\n",
      "Standard Error 598.6852069326584\n",
      "Estimating omega for rule 53\n",
      "Standard Error 738.6000013539127\n",
      "Estimating omega for rule 54\n",
      "Standard Error 495.4093620431491\n",
      "Estimating omega for rule 55\n",
      "Standard Error 501.4979940139342\n",
      "Estimating omega for rule 56\n",
      "Standard Error 573.4245530146054\n",
      "Estimating omega for rule 57\n",
      "Standard Error 472.7399644624939\n",
      "Estimating omega for rule 58\n",
      "Standard Error 514.3267832808243\n",
      "Estimating omega for rule 59\n",
      "Standard Error 606.3723773392056\n",
      "Estimating omega for rule 60\n",
      "Standard Error 867.9552206191285\n",
      "Estimating omega for rule 61\n",
      "Standard Error 624.1123336387449\n",
      "Estimating omega for rule 62\n"
     ]
    },
    {
     "name": "stdout",
     "output_type": "stream",
     "text": [
      "Standard Error 484.78449851454616\n",
      "Estimating omega for rule 63\n",
      "Standard Error 468.9759876582169\n",
      "Estimating omega for rule 64\n",
      "Standard Error 439.62573286831156\n",
      "Estimating omega for rule 65\n",
      "Standard Error 560.6654046755516\n",
      "Estimating omega for rule 66\n",
      "Standard Error 650.1500357609773\n",
      "Estimating omega for rule 67\n",
      "Standard Error 499.123039941055\n",
      "Estimating omega for rule 68\n",
      "Standard Error 441.39783415870994\n",
      "Estimating omega for rule 69\n",
      "Standard Error 480.0051062228401\n",
      "The Solution Set is: {0, 1, 2, 3, 4, 5, 6, 7, 8, 9, 10, 11, 12, 13, 14, 15, 16, 17, 18, 19, 20, 21, 22, 23, 24, 25, 26, 27, 28, 29, 30, 31, 32, 33, 34, 35, 36, 37, 38, 39, 40, 41, 42, 43, 44, 45, 46, 47, 48, 49, 50, 51, 52, 53, 54, 55, 56, 57, 58, 59, 60, 61, 62, 63, 64, 65, 66, 67, 68, 69}\n"
     ]
    }
   ],
   "source": [
    "_, soln_set = run_IDS()"
   ]
  },
  {
   "cell_type": "code",
   "execution_count": 60,
   "metadata": {
    "collapsed": true
   },
   "outputs": [],
   "source": [
    "clf2 = Classifier() \n",
    "clf2.rules = list(np.array(cars)[soln_set])\n",
    "clf2.default_class = CBA_attach_default_rule(cars, data_txns)"
   ]
  },
  {
   "cell_type": "code",
   "execution_count": 61,
   "metadata": {},
   "outputs": [
    {
     "data": {
      "text/plain": [
       "0.9761146496815286"
      ]
     },
     "execution_count": 61,
     "metadata": {},
     "output_type": "execute_result"
    }
   ],
   "source": [
    "clf2.test_transactions(data_txns)"
   ]
  },
  {
   "cell_type": "code",
   "execution_count": 62,
   "metadata": {},
   "outputs": [
    {
     "data": {
      "text/plain": [
       "0.9761146496815286"
      ]
     },
     "execution_count": 62,
     "metadata": {},
     "output_type": "execute_result"
    }
   ],
   "source": [
    "cba = CBA()\n",
    "clf_cba = cba.fit(data_txns)\n",
    "\n",
    "cba.rule_model_accuracy(data_txns)"
   ]
  },
  {
   "cell_type": "code",
   "execution_count": 63,
   "metadata": {},
   "outputs": [
    {
     "data": {
      "text/plain": [
       "[CAR {Normal_Nucleoli=-inf_to_2.5,Cell_Size_Uniformity=-inf_to_1.5} => {Class=benign} sup: 0.54 conf: 1.00 len: 3, id: 11519,\n",
       " CAR {Bare_Nuclei=-inf_to_1.5,Single_Epi_Cell_Size=-inf_to_2.5} => {Class=benign} sup: 0.52 conf: 1.00 len: 3, id: 11533,\n",
       " CAR {Normal_Nucleoli=-inf_to_2.5,Cell_Shape_Uniformity=-inf_to_1.5} => {Class=benign} sup: 0.49 conf: 1.00 len: 3, id: 11423,\n",
       " CAR {Bare_Nuclei=-inf_to_1.5,Cell_Size_Uniformity=-inf_to_1.5} => {Class=benign} sup: 0.49 conf: 1.00 len: 3, id: 11505,\n",
       " CAR {Marginal_Adhesion=-inf_to_1.5,Single_Epi_Cell_Size=-inf_to_2.5,Normal_Nucleoli=-inf_to_2.5,Mitoses=-inf_to_1.5} => {Class=benign} sup: 0.48 conf: 1.00 len: 5, id: 11538,\n",
       " CAR {Marginal_Adhesion=-inf_to_1.5,Bare_Nuclei=-inf_to_1.5,Normal_Nucleoli=-inf_to_2.5} => {Class=benign} sup: 0.46 conf: 1.00 len: 4, id: 11527,\n",
       " CAR {Clump_Thickness=-inf_to_4.5,Single_Epi_Cell_Size=-inf_to_2.5,Normal_Nucleoli=-inf_to_2.5} => {Class=benign} sup: 0.45 conf: 1.00 len: 4, id: 11483,\n",
       " CAR {Clump_Thickness=-inf_to_4.5,Marginal_Adhesion=-inf_to_1.5} => {Class=benign} sup: 0.43 conf: 1.00 len: 3, id: 11481,\n",
       " CAR {Mitoses=-inf_to_1.5,Normal_Nucleoli=-inf_to_2.5,Bland_Chromatin=-inf_to_2.5} => {Class=benign} sup: 0.42 conf: 1.00 len: 4, id: 11294,\n",
       " CAR {Clump_Thickness=-inf_to_4.5,Cell_Shape_Uniformity=-inf_to_1.5} => {Class=benign} sup: 0.41 conf: 1.00 len: 3, id: 11361,\n",
       " CAR {Bare_Nuclei=-inf_to_1.5,Normal_Nucleoli=-inf_to_2.5,Bland_Chromatin=-inf_to_2.5} => {Class=benign} sup: 0.39 conf: 1.00 len: 4, id: 11279,\n",
       " CAR {Bland_Chromatin=-inf_to_2.5,Cell_Size_Uniformity=-inf_to_1.5} => {Class=benign} sup: 0.38 conf: 1.00 len: 3, id: 11265,\n",
       " CAR {Marginal_Adhesion=-inf_to_1.5,Single_Epi_Cell_Size=-inf_to_2.5,Mitoses=-inf_to_1.5,Bland_Chromatin=-inf_to_2.5} => {Class=benign} sup: 0.34 conf: 1.00 len: 5, id: 11284,\n",
       " CAR {Single_Epi_Cell_Size=-inf_to_2.5,Normal_Nucleoli=-inf_to_2.5,Bland_Chromatin=2.5_to_3.5} => {Class=benign} sup: 0.17 conf: 1.00 len: 4, id: 10932,\n",
       " CAR {Cell_Size_Uniformity=4.5_to_inf,Clump_Thickness=6.5_to_inf} => {Class=malignant} sup: 0.16 conf: 1.00 len: 3, id: 10684,\n",
       " CAR {Bland_Chromatin=2.5_to_3.5,Cell_Size_Uniformity=-inf_to_1.5} => {Class=benign} sup: 0.16 conf: 1.00 len: 3, id: 10906,\n",
       " CAR {Marginal_Adhesion=-inf_to_1.5,Bare_Nuclei=-inf_to_1.5,Bland_Chromatin=2.5_to_3.5} => {Class=benign} sup: 0.14 conf: 1.00 len: 4, id: 10914,\n",
       " CAR {Cell_Size_Uniformity=4.5_to_inf,Mitoses=1.5_to_inf} => {Class=malignant} sup: 0.13 conf: 1.00 len: 3, id: 10660,\n",
       " CAR {Mitoses=1.5_to_inf,Cell_Shape_Uniformity=4.5_to_inf} => {Class=malignant} sup: 0.12 conf: 1.00 len: 3, id: 10662,\n",
       " CAR {Cell_Shape_Uniformity=4.5_to_inf,Single_Epi_Cell_Size=3.5_to_inf,Clump_Thickness=6.5_to_inf} => {Class=malignant} sup: 0.11 conf: 1.00 len: 4, id: 10685,\n",
       " CAR {Cell_Shape_Uniformity=4.5_to_inf,Bare_Nuclei=5.5_to_inf,Clump_Thickness=6.5_to_inf} => {Class=malignant} sup: 0.11 conf: 1.00 len: 4, id: 10669,\n",
       " CAR {Cell_Shape_Uniformity=4.5_to_inf,Marginal_Adhesion=3.5_to_inf,Clump_Thickness=6.5_to_inf} => {Class=malignant} sup: 0.11 conf: 1.00 len: 4, id: 10674,\n",
       " CAR {Bare_Nuclei=-inf_to_1.5,Bland_Chromatin=-inf_to_2.5} => {Class=benign} sup: 0.39 conf: 1.00 len: 3, id: 11281]"
      ]
     },
     "execution_count": 63,
     "metadata": {},
     "output_type": "execute_result"
    }
   ],
   "source": [
    "cba.clf.rules"
   ]
  },
  {
   "cell_type": "markdown",
   "metadata": {},
   "source": [
    "## Porovnání s CBA"
   ]
  },
  {
   "cell_type": "code",
   "execution_count": 59,
   "metadata": {},
   "outputs": [
    {
     "data": {
      "text/plain": [
       "70"
      ]
     },
     "execution_count": 59,
     "metadata": {},
     "output_type": "execute_result"
    }
   ],
   "source": [
    "len(soln_set)"
   ]
  },
  {
   "cell_type": "markdown",
   "metadata": {},
   "source": [
    "# Pruning"
   ]
  },
  {
   "cell_type": "markdown",
   "metadata": {},
   "source": [
    "* nepřidávat už pravidla, pokud počet správně klasifikovaných instancí už neroste\n",
    "* nebo když je minimum chyb"
   ]
  },
  {
   "cell_type": "code",
   "execution_count": 38,
   "metadata": {},
   "outputs": [
    {
     "data": {
      "image/png": "[encoded data removed]",
      "text/plain": [
       "<matplotlib.figure.Figure at 0x207e3742e10>"
      ]
     },
     "metadata": {},
     "output_type": "display_data"
    }
   ],
   "source": [
    "solution_rules = np.array(cars)[soln_set]\n",
    "errors = []\n",
    "corrects = []\n",
    "\n",
    "for i in range(len(solution_rules)):\n",
    "    correct = IDS_clf_correct_objective(solution_rules[:i], data_txns, error=False)\n",
    "    error = IDS_clf_correct_objective(solution_rules[:i], data_txns, error=True)\n",
    "    \n",
    "    errors.append(error)\n",
    "    corrects.append(correct)\n",
    "    \n",
    "plt.plot(errors)\n",
    "plt.plot(corrects)\n",
    "\n",
    "\n",
    "pruned_solution_rules = solution_rules[:np.argmax(corrects)]"
   ]
  },
  {
   "cell_type": "markdown",
   "metadata": {},
   "source": [
    "# Benchmarking"
   ]
  },
  {
   "cell_type": "code",
   "execution_count": null,
   "metadata": {},
   "outputs": [],
   "source": [
    "datasets = [\"iris0\", \"breast-w0\"] # ,\"glass0\", \"segment0\"]\n",
    "datasets_folder = \"../../data/\"\n",
    "\n",
    "IDS_accuracy = []\n",
    "IDS_ruleset_len = []\n",
    "CBA_accuracy = []\n",
    "CBA_ruleset_len = []\n",
    "\n",
    "\n",
    "for data_name in datasets:\n",
    "    data_folder = datasets_folder + data_name + \".csv\"\n",
    "\n",
    "    data = pandas.read_csv(data_folder)\n",
    "\n",
    "    data_txns = TransactionDB.from_DataFrame(data)\n",
    "    rules = top_rules(data_txns.string_representation, appearance=data_txns.appeardict, target_rule_count=200)\n",
    "    cars = createCARs(rules)\n",
    "    cars.sort(reverse=True)\n",
    "\n",
    "    cars = cars[:70]\n",
    "    \n",
    "    df = pd.read_csv(data_folder, ',')\n",
    "    Y = df.iloc[:, -1]\n",
    "\n",
    "    list_of_rules = get_IDS_rules_representation(cars)\n",
    "\n",
    "    prepare_caches(list_of_rules, df, Y)\n",
    "    prepare_overlap(list_of_rules, df)\n",
    "    \n",
    "    \n",
    "    def optimize(param):\n",
    "        lambda_array = [1.0]*7     # use separate hyperparamter search routine\n",
    "        #lambda_array = [1, 0, 0, 1, 0, 0, 0]\n",
    "\n",
    "        s1 = smooth_local_search(list_of_rules, df, Y, lambda_array, 0.33, param, func_evaluation_IDS_CBA)\n",
    "        func1 = func_evaluation_IDS_CBA(s1, list_of_rules, df, Y, lambda_array, len(list_of_rules))\n",
    "\n",
    "        return func1, s1\n",
    "\n",
    "    def run_IDS(alternative = False):\n",
    "        results = None\n",
    "        if not alternative:\n",
    "            results = list(map(optimize, [0.33, -1.0]))\n",
    "        else:\n",
    "            results = list(map(optimize_modified, [0.33, -1.0]))\n",
    "\n",
    "\n",
    "        (func1, s1), (func2, s2) = results \n",
    "\n",
    "        result_obj = 0\n",
    "        result_set = {}\n",
    "        if func1 > func2:\n",
    "            print(\"The Solution Set is: \"+str(s1))\n",
    "            result_set = list(s1)\n",
    "            result_obj = func1\n",
    "        else:\n",
    "            print(\"The Solution Set is: \"+str(s2))\n",
    "            result_set = list(s2)\n",
    "            result_obj = func2\n",
    "\n",
    "        return result_obj, result_set\n",
    "\n",
    "    \n",
    "    _, soln_set = run_IDS()\n",
    "    \n",
    "    clf2 = Classifier() \n",
    "    clf2.rules = list(np.array(cars)[soln_set])\n",
    "    clf2.default_class = CBA_attach_default_rule(cars, data_txns)\n",
    "    \n",
    "    IDS_acc = clf2.test_transactions(data_txns)\n",
    "    IDS_rls_len = len(clf2.rules)\n",
    "    \n",
    "    \n",
    "    cba = CBA()\n",
    "    clf_cba = cba.fit(data_txns)\n",
    "\n",
    "    CBA_acc = cba.rule_model_accuracy(data_txns)\n",
    "    CBA_rls_len = len(clf_cba.clf.rules)\n",
    "    \n",
    "    IDS_accuracy.append(IDS_acc)\n",
    "    IDS_ruleset_len.append(IDS_ruleset_len)\n",
    "    \n",
    "    CBA_accuracy.append(CBA_acc)\n",
    "    CBA_ruleset_len.append(CBA_ruleset_len)"
   ]
  },
  {
   "cell_type": "code",
   "execution_count": null,
   "metadata": {},
   "outputs": [],
   "source": [
    "IDS_accuracy"
   ]
  },
  {
   "cell_type": "code",
   "execution_count": 67,
   "metadata": {},
   "outputs": [
    {
     "data": {
      "text/plain": [
       "[0.9761146496815286,\n",
       " 0.9761146496815286,\n",
       " 0.9761146496815286,\n",
       " 0.9761146496815286,\n",
       " 0.9761146496815286]"
      ]
     },
     "execution_count": 67,
     "metadata": {},
     "output_type": "execute_result"
    }
   ],
   "source": [
    "CBA_accuracy"
   ]
  }
 ],
 "metadata": {
  "kernelspec": {
   "display_name": "Python 3",
   "language": "python",
   "name": "python3"
  },
  "language_info": {
   "codemirror_mode": {
    "name": "ipython",
    "version": 3
   },
   "file_extension": ".py",
   "mimetype": "text/x-python",
   "name": "python",
   "nbconvert_exporter": "python",
   "pygments_lexer": "ipython3",
   "version": "3.6.1"
  }
 },
 "nbformat": 4,
 "nbformat_minor": 2
}
