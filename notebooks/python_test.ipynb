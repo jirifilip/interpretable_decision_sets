{
 "cells": [
  {
   "cell_type": "code",
   "execution_count": 4,
   "metadata": {
    "collapsed": true
   },
   "outputs": [],
   "source": [
    "CACHE = {}\n",
    "\n",
    "\n",
    "\n",
    "def func(n):\n",
    "    result = CACHE.get(n)\n",
    "    \n",
    "    if result:\n",
    "        return result\n",
    "    \n",
    "    print(\"going in\")\n",
    "    \n",
    "    if n == 0:\n",
    "        result = 1\n",
    "    else:\n",
    "        result = n * func(n - 1)\n",
    "        \n",
    "    CACHE[n] = result\n",
    "    \n",
    "    return result"
   ]
  },
  {
   "cell_type": "code",
   "execution_count": 10,
   "metadata": {},
   "outputs": [
    {
     "name": "stdout",
     "output_type": "stream",
     "text": [
      "going in\n",
      "going in\n",
      "going in\n",
      "going in\n",
      "going in\n",
      "going in\n",
      "going in\n",
      "going in\n",
      "going in\n",
      "going in\n",
      "going in\n",
      "going in\n",
      "going in\n",
      "going in\n",
      "going in\n",
      "going in\n",
      "going in\n",
      "going in\n",
      "going in\n",
      "going in\n",
      "going in\n",
      "going in\n",
      "going in\n",
      "going in\n",
      "going in\n"
     ]
    }
   ],
   "source": [
    "for i in range(30):\n",
    "    func(i)"
   ]
  },
  {
   "cell_type": "code",
   "execution_count": 11,
   "metadata": {
    "collapsed": true
   },
   "outputs": [],
   "source": [
    "for i in range(30):\n",
    "    func(i)"
   ]
  }
 ],
 "metadata": {
  "kernelspec": {
   "display_name": "Python 3",
   "language": "python",
   "name": "python3"
  },
  "language_info": {
   "codemirror_mode": {
    "name": "ipython",
    "version": 3
   },
   "file_extension": ".py",
   "mimetype": "text/x-python",
   "name": "python",
   "nbconvert_exporter": "python",
   "pygments_lexer": "ipython3",
   "version": "3.6.1"
  }
 },
 "nbformat": 4,
 "nbformat_minor": 2
}
