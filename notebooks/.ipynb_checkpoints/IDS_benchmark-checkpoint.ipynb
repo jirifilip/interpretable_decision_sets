{
 "cells": [
  {
   "cell_type": "code",
   "execution_count": 4,
   "metadata": {
    "collapsed": true
   },
   "outputs": [],
   "source": [
    "import numpy as np, pandas as pd"
   ]
  },
  {
   "cell_type": "code",
   "execution_count": 5,
   "metadata": {
    "collapsed": true
   },
   "outputs": [],
   "source": [
    "import fim\n",
    "\n",
    "def process_dataset(df):\n",
    "    dataset = []\n",
    "    for i in range(0,df.shape[0]):\n",
    "        temp = []\n",
    "        for col_name in df.columns:\n",
    "            temp.append(col_name+\"=\"+str(df[col_name][i]))\n",
    "        dataset.append(temp)\n",
    "        \n",
    "    return dataset\n",
    "    \n",
    "\n",
    "def run_fim_apriori(df, minsup):\n",
    "    processed_df = process_dataset(df)\n",
    "    \n",
    "    result_raw = fim.apriori(processed_df, supp=(minsup*100))\n",
    "    result = list(map(lambda i: list(i[0]), result_raw))\n",
    "    \n",
    "    return result"
   ]
  },
  {
   "cell_type": "code",
   "execution_count": 8,
   "metadata": {},
   "outputs": [
    {
     "data": {
      "text/plain": [
       "5"
      ]
     },
     "execution_count": 8,
     "metadata": {},
     "output_type": "execute_result"
    }
   ],
   "source": [
    "df = pd.read_csv('../data/iris0.csv')\n",
    "\n",
    "df_raw = df.iloc[:, :-1]\n",
    "Y = df.iloc[:, -1]\n",
    "\n",
    "\n",
    "rules = run_fim_apriori(df_raw, 0.35)\n",
    "\n",
    "len(rules)\n"
   ]
  },
  {
   "cell_type": "code",
   "execution_count": 9,
   "metadata": {},
   "outputs": [
    {
     "data": {
      "text/plain": [
       "15"
      ]
     },
     "execution_count": 9,
     "metadata": {},
     "output_type": "execute_result"
    }
   ],
   "source": [
    "%run ../IDS_smooth_local.py\n",
    "\n",
    "list_of_rules = createrules(rules, list(set(Y)))\n",
    "\n",
    "len(list_of_rules)"
   ]
  },
  {
   "cell_type": "code",
   "execution_count": 14,
   "metadata": {},
   "outputs": [],
   "source": [
    "def prepare_caches(list_of_rules):\n",
    "    for rule in list_of_rules:\n",
    "        rule.cover = rule.get_cover(df)\n",
    "        rule.correct_cover = rule.get_correct_cover(df, Y)\n",
    "\n",
    "    for r1 in list_of_rules:\n",
    "        for r2 in list_of_rules:\n",
    "            OVERLAP_CACHE[frozenset([r1, r2])] = overlap(r1, r2, df)\n",
    "            \n",
    "prepare_caches(list_of_rules)"
   ]
  },
  {
   "cell_type": "code",
   "execution_count": 17,
   "metadata": {
    "collapsed": true
   },
   "outputs": [],
   "source": [
    "def optimize():\n",
    "    \n",
    "    lambda_array = [1.0]*7     # use separate hyperparamter search routine\n",
    "    s1 = smooth_local_search(list_of_rules, df, Y, lambda_array, 0.33, 0.33)\n",
    "    s2 = smooth_local_search(list_of_rules, df, Y, lambda_array, 0.33, -1.0)\n",
    "    f1 = func_evaluation(s1, list_of_rules, df, Y, lambda_array)\n",
    "    f2 = func_evaluation(s2, list_of_rules, df, Y, lambda_array)\n",
    "\n",
    "    result_set = {}\n",
    "    if f1 > f2:\n",
    "        print(\"The Solution Set is: \"+str(s1))\n",
    "        result_set = list(s1)\n",
    "    else:\n",
    "        print(\"The Solution Set is: \"+str(s2))\n",
    "        result_set = list(s2)"
   ]
  },
  {
   "cell_type": "code",
   "execution_count": 19,
   "metadata": {},
   "outputs": [
    {
     "name": "stdout",
     "output_type": "stream",
     "text": [
      "2/n*n OPT value is 549.9377777777778\n",
      "Estimating omega for rule 0\n",
      "Standard Error 112.6159002983149\n",
      "Estimating omega for rule 1\n",
      "Standard Error 85.4942863587971\n",
      "Estimating omega for rule 2\n",
      "Standard Error 102.74428451257033\n",
      "Estimating omega for rule 3\n",
      "Standard Error 80.94457980618591\n",
      "Estimating omega for rule 4\n",
      "Standard Error 66.6066438127609\n",
      "Estimating omega for rule 5\n",
      "Standard Error 93.35271286898951\n",
      "Estimating omega for rule 6\n",
      "Standard Error 93.9888823212618\n",
      "Estimating omega for rule 7\n",
      "Standard Error 83.97545474720575\n",
      "Estimating omega for rule 8\n",
      "Standard Error 62.721798443603326\n",
      "Estimating omega for rule 9\n",
      "Standard Error 84.06393995049244\n",
      "Estimating omega for rule 10\n",
      "Standard Error 85.72399897344967\n",
      "Estimating omega for rule 11\n",
      "Standard Error 108.42075908238238\n",
      "Estimating omega for rule 12\n",
      "Standard Error 97.94843541374206\n",
      "Estimating omega for rule 13\n",
      "Standard Error 108.74368947207924\n",
      "Estimating omega for rule 14\n",
      "Standard Error 99.48751177911728\n",
      "2/n*n OPT value is 550.9688888888888\n",
      "Estimating omega for rule 0\n",
      "Standard Error 78.09142078359184\n",
      "Estimating omega for rule 1\n",
      "Standard Error 96.17330710753374\n",
      "Estimating omega for rule 2\n",
      "Standard Error 48.16752017698233\n",
      "Estimating omega for rule 3\n",
      "Standard Error 99.78451282639006\n",
      "Estimating omega for rule 4\n",
      "Standard Error 92.57728663122505\n",
      "Estimating omega for rule 5\n",
      "Standard Error 86.60367775100546\n",
      "Estimating omega for rule 6\n",
      "Standard Error 70.50019148910164\n",
      "Estimating omega for rule 7\n",
      "Standard Error 73.31248188405573\n",
      "Estimating omega for rule 8\n",
      "Standard Error 72.66064959797703\n",
      "Estimating omega for rule 9\n",
      "Standard Error 105.01724144158425\n",
      "Estimating omega for rule 10\n",
      "Standard Error 57.116836396985434\n",
      "Estimating omega for rule 11\n",
      "Standard Error 96.88941118615594\n",
      "Estimating omega for rule 12\n",
      "Standard Error 97.44672903694614\n",
      "Estimating omega for rule 13\n",
      "Standard Error 77.18008162732143\n",
      "Estimating omega for rule 14\n",
      "Standard Error 72.48258411508243\n",
      "The Solution Set is: {2, 13, 6}\n",
      "         130250 function calls (128438 primitive calls) in 0.209 seconds\n",
      "\n",
      "   Ordered by: standard name\n",
      "\n",
      "   ncalls  tottime  percall  cumtime  percall filename:lineno(function)\n",
      "        1    0.000    0.000    0.209    0.209 <ipython-input-17-3c1ccf35e3f8>:1(optimize)\n",
      "        1    0.000    0.000    0.209    0.209 <string>:1(<module>)\n",
      "      604    0.006    0.000    0.014    0.000 IDS_smooth_local.py:149(max_rule_length)\n",
      "     7720    0.023    0.000    0.030    0.000 IDS_smooth_local.py:162(overlap)\n",
      "      604    0.055    0.000    0.141    0.000 IDS_smooth_local.py:177(func_evaluation)\n",
      "      602    0.010    0.000    0.047    0.000 IDS_smooth_local.py:249(sample_random_set)\n",
      "       30    0.004    0.000    0.204    0.007 IDS_smooth_local.py:273(estimate_omega_for_element)\n",
      "        2    0.000    0.000    0.002    0.001 IDS_smooth_local.py:308(compute_OPT)\n",
      "        2    0.000    0.000    0.208    0.104 IDS_smooth_local.py:318(smooth_local_search)\n",
      "    12232    0.005    0.000    0.007    0.000 IDS_smooth_local.py:55(get_length)\n",
      "     3187    0.004    0.000    0.009    0.000 IDS_smooth_local.py:76(get_correct_cover)\n",
      "     3172    0.004    0.000    0.010    0.000 IDS_smooth_local.py:92(get_incorrect_cover)\n",
      "      120    0.001    0.000    0.001    0.000 _methods.py:43(_count_reduce_items)\n",
      "       60    0.001    0.000    0.002    0.000 _methods.py:53(_mean)\n",
      "       60    0.002    0.000    0.005    0.000 _methods.py:86(_var)\n",
      "     1812    0.002    0.000    0.002    0.000 base.py:528(__len__)\n",
      "     1812    0.003    0.000    0.011    0.000 frame.py:493(shape)\n",
      "       60    0.001    0.000    0.002    0.000 fromnumeric.py:2786(mean)\n",
      "       60    0.001    0.000    0.006    0.000 fromnumeric.py:3010(var)\n",
      "      127    0.004    0.000    0.006    0.000 iostream.py:180(schedule)\n",
      "      126    0.000    0.000    0.000    0.000 iostream.py:284(_is_master_process)\n",
      "      126    0.000    0.000    0.000    0.000 iostream.py:297(_schedule_flush)\n",
      "      126    0.001    0.000    0.007    0.000 iostream.py:342(write)\n",
      "      127    0.000    0.000    0.000    0.000 iostream.py:87(_event_pipe)\n",
      "      180    0.000    0.000    0.001    0.000 numeric.py:534(asanyarray)\n",
      "     1812    0.002    0.000    0.003    0.000 range.py:446(__len__)\n",
      "      127    0.000    0.000    0.000    0.000 threading.py:1062(_wait_for_tstate_lock)\n",
      "      127    0.000    0.000    0.001    0.000 threading.py:1104(is_alive)\n",
      "      127    0.000    0.000    0.000    0.000 threading.py:506(is_set)\n",
      "        1    0.000    0.000    0.209    0.209 {built-in method builtins.exec}\n",
      "      120    0.000    0.000    0.000    0.000 {built-in method builtins.hasattr}\n",
      "      426    0.000    0.000    0.000    0.000 {built-in method builtins.isinstance}\n",
      "      180    0.000    0.000    0.000    0.000 {built-in method builtins.issubclass}\n",
      "35264/33452    0.007    0.000    0.012    0.000 {built-in method builtins.len}\n",
      "     2476    0.002    0.000    0.002    0.000 {built-in method builtins.max}\n",
      "       63    0.000    0.000    0.007    0.000 {built-in method builtins.print}\n",
      "     6374    0.009    0.000    0.009    0.000 {built-in method builtins.repr}\n",
      "     1296    0.001    0.000    0.001    0.000 {built-in method builtins.sorted}\n",
      "       30    0.000    0.000    0.000    0.000 {built-in method math.sqrt}\n",
      "      126    0.000    0.000    0.000    0.000 {built-in method nt.getpid}\n",
      "      127    0.000    0.000    0.000    0.000 {built-in method nt.urandom}\n",
      "      180    0.001    0.000    0.001    0.000 {built-in method numpy.core.multiarray.array}\n",
      "      127    0.000    0.000    0.000    0.000 {method 'acquire' of '_thread.lock' objects}\n",
      "     6532    0.001    0.000    0.001    0.000 {method 'add' of 'set' objects}\n",
      "    13918    0.002    0.000    0.002    0.000 {method 'append' of 'list' objects}\n",
      "        1    0.000    0.000    0.000    0.000 {method 'disable' of '_lsprof.Profiler' objects}\n",
      "    14079    0.006    0.000    0.006    0.000 {method 'get' of 'dict' objects}\n",
      "     1281    0.002    0.000    0.002    0.000 {method 'intersection' of 'set' objects}\n",
      "      180    0.002    0.000    0.002    0.000 {method 'reduce' of 'numpy.ufunc' objects}\n",
      "       91    0.000    0.000    0.000    0.000 {method 'remove' of 'set' objects}\n",
      "     9060    0.037    0.000    0.037    0.000 {method 'uniform' of 'mtrand.RandomState' objects}\n",
      "     3172    0.007    0.000    0.007    0.000 {method 'union' of 'set' objects}\n",
      "\n",
      "\n"
     ]
    }
   ],
   "source": [
    "import cProfile\n",
    "\n",
    "cProfile.run(\"optimize()\")"
   ]
  },
  {
   "cell_type": "code",
   "execution_count": 55,
   "metadata": {},
   "outputs": [
    {
     "name": "stdout",
     "output_type": "stream",
     "text": [
      "If petalwidth == 0.8_to_1.75, then Iris-virginica\n",
      "If petalwidth == 0.8_to_1.75, then Iris-versicolor\n",
      "If petallength == 4.75_to_inf, then Iris-setosa\n",
      "If sepalwidth == 2.95_to_3.35, then Iris-virginica\n",
      "If sepalwidth == 2.95_to_3.35, then Iris-versicolor\n",
      "If sepallength == -inf_to_5.55, then Iris-virginica\n"
     ]
    },
    {
     "data": {
      "text/plain": [
       "[None, None, None, None, None, None]"
      ]
     },
     "execution_count": 55,
     "metadata": {},
     "output_type": "execute_result"
    }
   ],
   "source": [
    "np_rules = np.array(list_of_rules)\n",
    "solution_rules = np_rules[result_set]\n",
    "\n",
    "list(map(lambda r: r.print_rule(), solution_rules))"
   ]
  },
  {
   "cell_type": "code",
   "execution_count": 87,
   "metadata": {},
   "outputs": [
    {
     "name": "stdout",
     "output_type": "stream",
     "text": [
      "{('petallength', '-inf_to_2.45'), ('sepalwidth', '2.95_to_3.35'), ('petalwidth', '-inf_to_0.8'), ('sepallength', '-inf_to_5.55')}\n",
      "If petalwidth == 0.8_to_1.75, then Iris-virginica\n",
      "If petalwidth == 0.8_to_1.75, then Iris-versicolor\n",
      "If petallength == 4.75_to_inf, then Iris-setosa\n",
      "If sepalwidth == 2.95_to_3.35, then Iris-virginica\n",
      "If sepalwidth == 2.95_to_3.35, then Iris-versicolor\n",
      "If sepallength == -inf_to_5.55, then Iris-virginica\n"
     ]
    },
    {
     "data": {
      "text/plain": [
       "[None, None, None, None, None, None]"
      ]
     },
     "execution_count": 87,
     "metadata": {},
     "output_type": "execute_result"
    }
   ],
   "source": [
    "def prepare_dataset_to_tuples(df):\n",
    "    df_dict = df.iloc[:, :-1].to_dict(orient=\"records\")\n",
    "    df_items = list(map(lambda i: set(i.items()), df_dict))\n",
    "\n",
    "    return df_items\n",
    "\n",
    "\n",
    "def predict(rule_list, instance):\n",
    "    matches = []\n",
    "    \n",
    "    for rule in rule_list:\n",
    "        if r.itemset <= instance:\n",
    "            matches.append(r)\n",
    "            \n",
    "    return matches\n",
    "\n",
    "\n",
    "df_items = prepare_dataset_to_tuples(df)\n",
    "\n",
    "\n",
    "predict(solution_rules, df_items[3])\n",
    "\n",
    "print(df_items[1])\n",
    "\n",
    "list(map(lambda r: r.print_rule(), solution_rules))"
   ]
  },
  {
   "cell_type": "code",
   "execution_count": 145,
   "metadata": {},
   "outputs": [
    {
     "data": {
      "text/plain": [
       "[0,\n",
       " 1,\n",
       " 2,\n",
       " 3,\n",
       " 4,\n",
       " 5,\n",
       " 6,\n",
       " 7,\n",
       " 8,\n",
       " 9,\n",
       " 10,\n",
       " 13,\n",
       " 14,\n",
       " 16,\n",
       " 17,\n",
       " 18,\n",
       " 19,\n",
       " 20,\n",
       " 21,\n",
       " 22,\n",
       " 23,\n",
       " 24,\n",
       " 25,\n",
       " 26,\n",
       " 27,\n",
       " 28,\n",
       " 29,\n",
       " 30,\n",
       " 31,\n",
       " 32,\n",
       " 33,\n",
       " 34,\n",
       " 35,\n",
       " 36,\n",
       " 37,\n",
       " 38,\n",
       " 39,\n",
       " 40,\n",
       " 41,\n",
       " 42,\n",
       " 43,\n",
       " 44,\n",
       " 47,\n",
       " 51,\n",
       " 53,\n",
       " 54,\n",
       " 71,\n",
       " 74,\n",
       " 79,\n",
       " 80,\n",
       " 83,\n",
       " 88,\n",
       " 96]"
      ]
     },
     "execution_count": 145,
     "metadata": {},
     "output_type": "execute_result"
    }
   ],
   "source": [
    "def get_cover(r, df):\n",
    "    dfnew = df.copy()\n",
    "    for pattern in r.itemset: \n",
    "        dfnew = dfnew[dfnew[pattern[0]] == pattern[1]]\n",
    "    return list(dfnew.index.values)\n",
    "\n",
    "def get_cover_faster(r, df):\n",
    "    mask = np.ones(len(df), dtype=bool)\n",
    "    for pattern in r.itemset:\n",
    "        mask &= df[pattern[0]] == pattern[1]\n",
    "        \n",
    "    return list(df[mask].index.values)\n",
    "\n",
    "\n",
    "cache = {}\n",
    "def get_cover_memoized(r, df):    \n",
    "    result = cache.get(repr(r))\n",
    "    \n",
    "    if result:\n",
    "        return result\n",
    "    \n",
    "    mask = np.ones(len(df), dtype=bool)\n",
    "    for pattern in r.itemset:\n",
    "        mask &= df[pattern[0]] == pattern[1]\n",
    "        \n",
    "    result = list(df[mask].index.values)\n",
    "    \n",
    "    cache[repr(r)] = result \n",
    "        \n",
    "    return result\n",
    "    \n",
    "df.copy()\n",
    "\n",
    "#%timeit get_cover(r, df)\n",
    "#%timeit get_cover_faster(r, df)\n",
    "\n",
    "\n",
    "get_cover_memoized(r, df)"
   ]
  },
  {
   "cell_type": "code",
   "execution_count": 130,
   "metadata": {},
   "outputs": [
    {
     "data": {
      "text/plain": [
       "2"
      ]
     },
     "execution_count": 130,
     "metadata": {},
     "output_type": "execute_result"
    }
   ],
   "source": [
    "d = {\"1\": 2}\n",
    "\n",
    "d.get(\"1\")"
   ]
  },
  {
   "cell_type": "code",
   "execution_count": 120,
   "metadata": {},
   "outputs": [
    {
     "data": {
      "text/plain": [
       "30.953084615384615"
      ]
     },
     "execution_count": 120,
     "metadata": {},
     "output_type": "execute_result"
    }
   ],
   "source": [
    "faster_ratio = 1.03 / 1.3\n",
    "\n",
    "faster_ratio * 1.3\n",
    "\n",
    "39.067 * faster_ratio"
   ]
  },
  {
   "cell_type": "code",
   "execution_count": 12,
   "metadata": {},
   "outputs": [
    {
     "data": {
      "text/plain": [
       "(array([96], dtype=int64),\n",
       " [0,\n",
       "  1,\n",
       "  2,\n",
       "  3,\n",
       "  4,\n",
       "  5,\n",
       "  6,\n",
       "  7,\n",
       "  8,\n",
       "  9,\n",
       "  10,\n",
       "  13,\n",
       "  14,\n",
       "  16,\n",
       "  17,\n",
       "  18,\n",
       "  19,\n",
       "  20,\n",
       "  21,\n",
       "  22,\n",
       "  23,\n",
       "  24,\n",
       "  25,\n",
       "  26,\n",
       "  27,\n",
       "  28,\n",
       "  29,\n",
       "  30,\n",
       "  31,\n",
       "  32,\n",
       "  33,\n",
       "  34,\n",
       "  35,\n",
       "  36,\n",
       "  37,\n",
       "  38,\n",
       "  39,\n",
       "  40,\n",
       "  41,\n",
       "  42,\n",
       "  43,\n",
       "  44,\n",
       "  47,\n",
       "  51,\n",
       "  53,\n",
       "  54,\n",
       "  71,\n",
       "  74,\n",
       "  79,\n",
       "  80,\n",
       "  83,\n",
       "  88,\n",
       "  96])"
      ]
     },
     "execution_count": 12,
     "metadata": {},
     "output_type": "execute_result"
    }
   ],
   "source": [
    "def get_correct_cover(r, df, Y):\n",
    "    indexes_points_covered = r.get_cover(df) # indices of all points satisfying the rule\n",
    "    Y_arr = pd.Series(Y)                    # make a series of all Y labels\n",
    "    labels_covered_points = list(Y_arr[indexes_points_covered])   # get a list only of Y labels of the points covered\n",
    "    correct_cover = []\n",
    "    for ind in range(0,len(labels_covered_points)):\n",
    "        if labels_covered_points[ind] == r.class_label:\n",
    "            correct_cover.append(indexes_points_covered[ind])\n",
    "    return correct_cover, indexes_points_covered\n",
    "\n",
    "\n",
    "def get_correct_cover_faster(r, df, Y):\n",
    "    indexes_points_covered = r.get_cover(df) # indices of all points satisfying the rule\n",
    "    Y_arr = np.array(Y)                    # make a series of all Y labels\n",
    "    labels_covered_points = Y_arr[indexes_points_covered]   # get a list only of Y labels of th\n",
    "    mask = labels_covered_points == r.class_label\n",
    "    result = np.array(indexes_points_covered)[mask]\n",
    "\n",
    "    return result, indexes_points_covered\n",
    "\n",
    "\n",
    "CORRECT_COVER_CACHE = {}\n",
    "\n",
    "def get_correct_cover_memoized(r, df, Y):\n",
    "    result = CORRECT_COVER_CACHE.get(repr(r))\n",
    "    \n",
    "    if result:\n",
    "        return result\n",
    "    \n",
    "    indexes_points_covered = r.get_cover(df) # indices of all points satisfying the rule\n",
    "    Y_arr = np.array(Y)                    # make a series of all Y labels\n",
    "    labels_covered_points = Y_arr[indexes_points_covered]   # get a list only of Y labels of th\n",
    "    mask = labels_covered_points == r.class_label\n",
    "    result = np.array(indexes_points_covered)[mask]\n",
    "    \n",
    "    CORRECT_COVER_CACHE[repr(r)] = result, indexes_points_covered\n",
    "\n",
    "    return result, indexes_points_covered\n",
    "    \n",
    "    \n",
    "#%timeit get_correct_cover(r, df, Y)\n",
    "#%timeit get_correct_cover_faster(r, df, Y)\n",
    "#%timeit get_correct_cover_memoized(r, df, Y)\n",
    "\n",
    "get_correct_cover_memoized(r, df, Y)"
   ]
  },
  {
   "cell_type": "code",
   "execution_count": 12,
   "metadata": {},
   "outputs": [
    {
     "ename": "NameError",
     "evalue": "name 'r' is not defined",
     "output_type": "error",
     "traceback": [
      "\u001b[1;31m---------------------------------------------------------------------------\u001b[0m",
      "\u001b[1;31mNameError\u001b[0m                                 Traceback (most recent call last)",
      "\u001b[1;32m<ipython-input-12-fff7f6327ba7>\u001b[0m in \u001b[0;36m<module>\u001b[1;34m()\u001b[0m\n\u001b[0;32m      2\u001b[0m \u001b[1;33m\u001b[0m\u001b[0m\n\u001b[0;32m      3\u001b[0m \u001b[1;33m\u001b[0m\u001b[0m\n\u001b[1;32m----> 4\u001b[1;33m \u001b[0mrepr\u001b[0m\u001b[1;33m(\u001b[0m\u001b[0mr\u001b[0m\u001b[1;33m)\u001b[0m\u001b[1;33m\u001b[0m\u001b[0m\n\u001b[0m\u001b[0;32m      5\u001b[0m \u001b[0mrepr\u001b[0m\u001b[1;33m(\u001b[0m\u001b[0mlist_of_rules\u001b[0m\u001b[1;33m[\u001b[0m\u001b[1;36m1\u001b[0m\u001b[1;33m]\u001b[0m\u001b[1;33m)\u001b[0m\u001b[1;33m\u001b[0m\u001b[0m\n",
      "\u001b[1;31mNameError\u001b[0m: name 'r' is not defined"
     ]
    }
   ],
   "source": [
    "\n",
    "\n",
    "\n",
    "repr(r)\n",
    "repr(list_of_rules[1])"
   ]
  },
  {
   "cell_type": "code",
   "execution_count": 25,
   "metadata": {},
   "outputs": [
    {
     "name": "stdout",
     "output_type": "stream",
     "text": [
      "11.6 µs ± 77.9 ns per loop (mean ± std. dev. of 7 runs, 100000 loops each)\n",
      "20.9 µs ± 581 ns per loop (mean ± std. dev. of 7 runs, 10000 loops each)\n"
     ]
    }
   ],
   "source": [
    "def get_incorrect_cover(r, df, Y):\n",
    "    correct_cover, full_cover = r.get_correct_cover(df, Y)\n",
    "    return (sorted(list(set(full_cover) - set(correct_cover))))\n",
    "\n",
    "\n",
    "def get_incorrect_cover_faster(r, df, Y):\n",
    "    correct_cover, full_cover = r.get_correct_cover(df, Y)\n",
    "\n",
    "    mask = full_cover == correct_cover\n",
    "    \n",
    "    return np.array(full_cover)[~mask]\n",
    "\n",
    "\n",
    "all(get_incorrect_cover_faster(r, df, Y) == get_incorrect_cover(r, df, Y))\n",
    "\n",
    "\n"
   ]
  },
  {
   "cell_type": "code",
   "execution_count": 15,
   "metadata": {},
   "outputs": [
    {
     "data": {
      "text/plain": [
       "6561"
      ]
     },
     "execution_count": 15,
     "metadata": {},
     "output_type": "execute_result"
    }
   ],
   "source": [
    "OVERLAP_CACHE = {}\n",
    "\n",
    "for r1 in list_of_rules:\n",
    "    for r2 in list_of_rules:\n",
    "        OVERLAP_CACHE[repr(r1) + repr(r2)] = overlap(r1, r2, df)\n",
    "        \n",
    "        \n",
    "len(OVERLAP_CACHE)"
   ]
  }
 ],
 "metadata": {
  "kernelspec": {
   "display_name": "Python 3",
   "language": "python",
   "name": "python3"
  },
  "language_info": {
   "codemirror_mode": {
    "name": "ipython",
    "version": 3
   },
   "file_extension": ".py",
   "mimetype": "text/x-python",
   "name": "python",
   "nbconvert_exporter": "python",
   "pygments_lexer": "ipython3",
   "version": "3.6.1"
  }
 },
 "nbformat": 4,
 "nbformat_minor": 2
}
